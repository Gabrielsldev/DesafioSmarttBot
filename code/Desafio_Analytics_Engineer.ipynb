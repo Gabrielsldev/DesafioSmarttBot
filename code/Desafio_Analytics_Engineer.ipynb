{
 "cells": [
  {
   "cell_type": "code",
   "execution_count": 28,
   "metadata": {},
   "outputs": [],
   "source": [
    "import pandas as pd\n",
    "import numpy as np"
   ]
  },
  {
   "cell_type": "markdown",
   "metadata": {},
   "source": [
    "# 1. Escreva uma query que retorna a quantidade de linhas na tabela Sales.SalesOrderDetail pelo campo SalesOrderID, desde que tenham pelo menos três linhas de detalhes.\n",
    "## Acha a quantidade de linhas de detalhes (SalesOrderDetailID) por SalesOrderID.\n",
    "- Após fazer uma análise exploratória dos dados, foi verificado que **para cada SalesOrderID existe uma SalesOrderDetailID.**\n",
    " - Foi feito um agrupamento da coluna SalesOrderID com a função de agregação size() para achar o número de linhas para cada SalesOrderID, **que é o mesmo número de linhas da coluna SalesOrderDetailID.**"
   ]
  },
  {
   "cell_type": "code",
   "execution_count": 29,
   "metadata": {},
   "outputs": [],
   "source": [
    "def question_1(base1=\"Sales.SalesOrderDetail.csv\"):\n",
    "    \n",
    "    # Importa base\n",
    "    SalesOrderDetail = pd.read_csv(f\"../data/{base1}\", sep=\";\")\n",
    "    \n",
    "    # Agrupa SalesOrderDetail por SalesOrderID com a função de agregação size()\n",
    "    grouped_SalesOrderDetail = SalesOrderDetail.groupby('SalesOrderID').size().reset_index(name='Entries')\n",
    "    \n",
    "    # Seleciona as linhas com número de registros maior ou igual a 3\n",
    "    answer1 = grouped_SalesOrderDetail.loc[grouped_SalesOrderDetail[\"Entries\"] >= 3]\n",
    "    \n",
    "    # Retorna o tamanho do dataframe answer, que é o resultado esperado\n",
    "    return len(answer1)"
   ]
  },
  {
   "cell_type": "code",
   "execution_count": 30,
   "metadata": {},
   "outputs": [
    {
     "data": {
      "text/plain": [
       "12757"
      ]
     },
     "execution_count": 30,
     "metadata": {},
     "output_type": "execute_result"
    }
   ],
   "source": [
    "question_1(\"Sales.SalesOrderDetail.csv\")"
   ]
  },
  {
   "cell_type": "markdown",
   "metadata": {},
   "source": [
    "# 2. Escreva uma query que ligue as tabelas Sales.SalesOrderDetail, Sales.SpecialOfferProduct e Production.Product e retorne os 3 produtos (Name) mais vendidos (pela soma de OrderQty), agrupados pelo número de dias para manufatura (DaysToManufacture).\n",
    "- Após análise exploratória dos dados, foi observado que a chave comum entre as 3 bases é a coluna **ProductID.**\n",
    "- As colunas relevantes para alcançar o resultado desejado são:\n",
    " - **OrderQty**, encontrada somente na tabela Sales.SalesOrderDetail;\n",
    " - **DaysToManufacture**, encontrada nas tabelas Sales.SpecialOfferProduct e Production.Product;\n",
    " - **Name**, encontrada nas tabelas Sales.SpecialOfferProduct e Production.Product.\n",
    "- Como DaysToManufacture e Name estão nas duas tabelas Sales.SpecialOfferProduct e Production.Product, e elas possuem os mesmos produtos, inclusive com o mesmo número de registros (504), não é necessário fazer uma relação entre essas duas tabelas.\n",
    "- Foi feito um merge entre as tabelas Sales.SalesOrderDetail.csv e Production.Product.csv utilizando como chave o ProductID\n",
    " - O resultado foi agrupado por DaysToManufacture e Name com a função de agregação sum na coluna OrderQty.\n",
    " - Foram selecionados os 3 produtos mais vendidos.\n",
    " \n",
    " # ALTERAR DESCRIÇÃO"
   ]
  },
  {
   "cell_type": "code",
   "execution_count": 298,
   "metadata": {},
   "outputs": [],
   "source": [
    "# def question_2(base1=\"Sales.SalesOrderDetail.csv\", base2=\"Sales.SpecialOfferProduct.csv\",\n",
    "#                base3=\"Production.Product.csv\"):\n",
    "    \n",
    "#     # Importa bases\n",
    "#     SalesOrderDetail = pd.read_csv(f\"../data/{base1}\", sep=\";\")\n",
    "#     SpecialOfferProduct = pd.read_csv(f\"../data/{base3}\", sep=\";\")\n",
    "#     Product = pd.read_csv(f\"../data/{base3}\", sep=\";\")\n",
    "    \n",
    "#     # Não é necessário fazer o merge entre SpecialOfferProduct e Product.\n",
    "#     # Não foi executado, mas, como foi solicitado no enunciado, segue:\n",
    "#     # SpecialOfferProduct_Product = pd.merge(SpecialOfferProduct, Product, on=\"ProductID\", how=\"inner\")\n",
    "    \n",
    "#     # Relaziona Sales.SalesOrderDetail e Production.Product para trazer a coluna OrderQty\n",
    "#     Product_SalesOrderDetail = pd.merge(Product, SalesOrderDetail[[\"OrderQty\", \"ProductID\"]], on=\"ProductID\", how=\"inner\")\n",
    "    \n",
    "#     # Seleciona as colunas relevantes para diminuir o dataframe\n",
    "#     Product_SalesOrderDetail = Product_SalesOrderDetail[[\"ProductID\", \"Name\", \"OrderQty\", \"DaysToManufacture\"]]\n",
    "    \n",
    "#     # Agrupa o dataframe e aplica sum na coluna OrderQty\n",
    "#     Product_SalesOrderDetail = Product_SalesOrderDetail.groupby([\"DaysToManufacture\", \"Name\"]).agg({'OrderQty':sum,})\n",
    "    \n",
    "#     # Seleciona os 3 produtos mais vendidos, retorna o nome agrupado por DaysToManufacture\n",
    "#     answer2 = Product_SalesOrderDetail.groupby('DaysToManufacture').apply(lambda x: x.nlargest(3,\"OrderQty\")).reset_index(level=0, drop=True)\n",
    "    \n",
    "\n",
    "#     return answer2\n",
    "\n",
    "\n",
    "def question_2(base1=\"Sales.SalesOrderDetail.csv\", base2=\"Sales.SpecialOfferProduct.csv\",\n",
    "               base3=\"Production.Product.csv\"):\n",
    "    \n",
    "    # Importa bases\n",
    "    SalesOrderDetail = pd.read_csv(f\"../data/{base1}\", sep=\";\")\n",
    "    SpecialOfferProduct = pd.read_csv(f\"../data/{base3}\", sep=\";\")\n",
    "    Product = pd.read_csv(f\"../data/{base3}\", sep=\";\")\n",
    "    \n",
    "    # Não é necessário fazer o merge entre SpecialOfferProduct e Product.\n",
    "    # Nesse caso não é necessário\n",
    "    SpecialOfferProduct_Product = pd.merge(SpecialOfferProduct, Product, on=\"ProductID\", how=\"right\")\n",
    "    \n",
    "    # Relaziona Sales.SalesOrderDetail e Production.Product para trazer a coluna OrderQty\n",
    "    Product_SalesOrderDetail = pd.merge(SpecialOfferProduct_Product, SalesOrderDetail[[\"OrderQty\", \"ProductID\"]], on=\"ProductID\", how=\"left\")\n",
    "    \n",
    "    # Seleciona as colunas relevantes para diminuir o dataframe\n",
    "    Product_SalesOrderDetail = Product_SalesOrderDetail[[\"ProductID\", \"Name_x\", \"OrderQty\", \"DaysToManufacture_x\"]]\n",
    "    Product_SalesOrderDetail = Product_SalesOrderDetail.rename(columns={\"Name_x\":\"Name\",\n",
    "                                                                        \"DaysToManufacture_x\":\"DaysToManufacture\"})\n",
    "    \n",
    "    # Agrupa o dataframe e aplica sum na coluna OrderQty\n",
    "    Product_SalesOrderDetail = Product_SalesOrderDetail.groupby([\"DaysToManufacture\", \"Name\"]).agg({'OrderQty':sum,})\n",
    "    \n",
    "    # Seleciona os 3 produtos mais vendidos, retorna o nome agrupado por DaysToManufacture\n",
    "    answer2 = Product_SalesOrderDetail.groupby('DaysToManufacture').apply(lambda x: x.nlargest(3,\"OrderQty\")).reset_index(level=0, drop=True)\n",
    "    \n",
    "    return answer2"
   ]
  },
  {
   "cell_type": "code",
   "execution_count": 299,
   "metadata": {},
   "outputs": [
    {
     "data": {
      "text/html": [
       "<div>\n",
       "<style scoped>\n",
       "    .dataframe tbody tr th:only-of-type {\n",
       "        vertical-align: middle;\n",
       "    }\n",
       "\n",
       "    .dataframe tbody tr th {\n",
       "        vertical-align: top;\n",
       "    }\n",
       "\n",
       "    .dataframe thead th {\n",
       "        text-align: right;\n",
       "    }\n",
       "</style>\n",
       "<table border=\"1\" class=\"dataframe\">\n",
       "  <thead>\n",
       "    <tr style=\"text-align: right;\">\n",
       "      <th></th>\n",
       "      <th></th>\n",
       "      <th>OrderQty</th>\n",
       "    </tr>\n",
       "    <tr>\n",
       "      <th>DaysToManufacture</th>\n",
       "      <th>Name</th>\n",
       "      <th></th>\n",
       "    </tr>\n",
       "  </thead>\n",
       "  <tbody>\n",
       "    <tr>\n",
       "      <th rowspan=\"3\" valign=\"top\">0</th>\n",
       "      <th>AWC Logo Cap</th>\n",
       "      <td>8311.0</td>\n",
       "    </tr>\n",
       "    <tr>\n",
       "      <th>Water Bottle - 30 oz.</th>\n",
       "      <td>6815.0</td>\n",
       "    </tr>\n",
       "    <tr>\n",
       "      <th>Sport-100 Helmet, Blue</th>\n",
       "      <td>6743.0</td>\n",
       "    </tr>\n",
       "    <tr>\n",
       "      <th rowspan=\"3\" valign=\"top\">1</th>\n",
       "      <th>LL Road Frame - Black, 52</th>\n",
       "      <td>1581.0</td>\n",
       "    </tr>\n",
       "    <tr>\n",
       "      <th>ML Mountain Handlebars</th>\n",
       "      <td>1465.0</td>\n",
       "    </tr>\n",
       "    <tr>\n",
       "      <th>ML Road Frame-W - Yellow, 44</th>\n",
       "      <td>1435.0</td>\n",
       "    </tr>\n",
       "    <tr>\n",
       "      <th rowspan=\"3\" valign=\"top\">2</th>\n",
       "      <th>HL Mountain Frame - Silver, 38</th>\n",
       "      <td>1206.0</td>\n",
       "    </tr>\n",
       "    <tr>\n",
       "      <th>ML Road Frame-W - Yellow, 38</th>\n",
       "      <td>895.0</td>\n",
       "    </tr>\n",
       "    <tr>\n",
       "      <th>HL Mountain Frame - Black, 38</th>\n",
       "      <td>659.0</td>\n",
       "    </tr>\n",
       "    <tr>\n",
       "      <th rowspan=\"3\" valign=\"top\">4</th>\n",
       "      <th>Mountain-200 Black, 38</th>\n",
       "      <td>2977.0</td>\n",
       "    </tr>\n",
       "    <tr>\n",
       "      <th>Mountain-200 Black, 42</th>\n",
       "      <td>2664.0</td>\n",
       "    </tr>\n",
       "    <tr>\n",
       "      <th>Mountain-200 Silver, 38</th>\n",
       "      <td>2394.0</td>\n",
       "    </tr>\n",
       "  </tbody>\n",
       "</table>\n",
       "</div>"
      ],
      "text/plain": [
       "                                                  OrderQty\n",
       "DaysToManufacture Name                                    \n",
       "0                 AWC Logo Cap                      8311.0\n",
       "                  Water Bottle - 30 oz.             6815.0\n",
       "                  Sport-100 Helmet, Blue            6743.0\n",
       "1                 LL Road Frame - Black, 52         1581.0\n",
       "                  ML Mountain Handlebars            1465.0\n",
       "                  ML Road Frame-W - Yellow, 44      1435.0\n",
       "2                 HL Mountain Frame - Silver, 38    1206.0\n",
       "                  ML Road Frame-W - Yellow, 38       895.0\n",
       "                  HL Mountain Frame - Black, 38      659.0\n",
       "4                 Mountain-200 Black, 38            2977.0\n",
       "                  Mountain-200 Black, 42            2664.0\n",
       "                  Mountain-200 Silver, 38           2394.0"
      ]
     },
     "execution_count": 299,
     "metadata": {},
     "output_type": "execute_result"
    }
   ],
   "source": [
    "question_2()"
   ]
  },
  {
   "cell_type": "markdown",
   "metadata": {},
   "source": [
    "# 3. Escreva uma query ligando as tabelas Person.Person, Sales.Customer e Sales.SalesOrderHeader de forma a obter uma lista de nomes de clientes e uma contagem de pedidos efetuados.\n",
    "- Nome dos cliente consta na tabela Person.Person\n",
    "- "
   ]
  },
  {
   "cell_type": "code",
   "execution_count": 296,
   "metadata": {},
   "outputs": [],
   "source": [
    "def question_3(base1=\"Person.Person.csv\", base2=\"Sales.Customer.csv\",\n",
    "               base3=\"Sales.SalesOrderHeader.csv\"):\n",
    "    \n",
    "    # Importa bases\n",
    "    Person = pd.read_csv(f\"../data/{base1}\", sep=\";\")\n",
    "    Customer = pd.read_csv(f\"../data/{base3}\", sep=\";\")\n",
    "    SalesOrderHeader = pd.read_csv(f\"../data/{base3}\", sep=\";\")\n",
    "    \n",
    "    # Nesse caso não é necessário\n",
    "    SalesOrderHeader_Customer = pd.merge(Customer, SalesOrderHeader, on=\"SalesOrderID\", how=\"outer\")\n",
    "    \n",
    "    \n",
    "    Customer_Person = pd.merge(SalesOrderHeader_Customer, Person[[\"FirstName\", \"MiddleName\", \"LastName\", \"BusinessEntityID\"]],\n",
    "                               left_on=\"CustomerID_x\", right_on=\"BusinessEntityID\", how=\"inner\")\n",
    "    \n",
    "    Customer_Person[\"Name\"] = Customer_Person[\"FirstName\"]+\" \"+Customer_Person[\"MiddleName\"]+\" \"+Customer_Person[\"LastName\"]\n",
    "    \n",
    "    Customer_Person = Customer_Person.groupby(\"Name\")[\"SalesOrderID\"].size().sort_values(ascending=False)\n",
    "    \n",
    "    \n",
    "    return Customer_Person.to_frame(name=\"Number_of_Orders\")"
   ]
  },
  {
   "cell_type": "code",
   "execution_count": 297,
   "metadata": {},
   "outputs": [
    {
     "data": {
      "text/html": [
       "<div>\n",
       "<style scoped>\n",
       "    .dataframe tbody tr th:only-of-type {\n",
       "        vertical-align: middle;\n",
       "    }\n",
       "\n",
       "    .dataframe tbody tr th {\n",
       "        vertical-align: top;\n",
       "    }\n",
       "\n",
       "    .dataframe thead th {\n",
       "        text-align: right;\n",
       "    }\n",
       "</style>\n",
       "<table border=\"1\" class=\"dataframe\">\n",
       "  <thead>\n",
       "    <tr style=\"text-align: right;\">\n",
       "      <th></th>\n",
       "      <th>Number_of_Orders</th>\n",
       "    </tr>\n",
       "    <tr>\n",
       "      <th>Name</th>\n",
       "      <th></th>\n",
       "    </tr>\n",
       "  </thead>\n",
       "  <tbody>\n",
       "    <tr>\n",
       "      <th>Morgan C Miller</th>\n",
       "      <td>28</td>\n",
       "    </tr>\n",
       "    <tr>\n",
       "      <th>Grace R Lewis</th>\n",
       "      <td>27</td>\n",
       "    </tr>\n",
       "    <tr>\n",
       "      <th>Natalie M Martin</th>\n",
       "      <td>27</td>\n",
       "    </tr>\n",
       "    <tr>\n",
       "      <th>Grace J Lee</th>\n",
       "      <td>27</td>\n",
       "    </tr>\n",
       "    <tr>\n",
       "      <th>Marshall M Shen</th>\n",
       "      <td>27</td>\n",
       "    </tr>\n",
       "    <tr>\n",
       "      <th>...</th>\n",
       "      <td>...</td>\n",
       "    </tr>\n",
       "    <tr>\n",
       "      <th>Kaitlyn R Howard</th>\n",
       "      <td>1</td>\n",
       "    </tr>\n",
       "    <tr>\n",
       "      <th>Kaitlyn O Butler</th>\n",
       "      <td>1</td>\n",
       "    </tr>\n",
       "    <tr>\n",
       "      <th>Kaitlyn M Russell</th>\n",
       "      <td>1</td>\n",
       "    </tr>\n",
       "    <tr>\n",
       "      <th>Kaitlyn M Foster</th>\n",
       "      <td>1</td>\n",
       "    </tr>\n",
       "    <tr>\n",
       "      <th>Aaron A Allen</th>\n",
       "      <td>1</td>\n",
       "    </tr>\n",
       "  </tbody>\n",
       "</table>\n",
       "<p>5830 rows × 1 columns</p>\n",
       "</div>"
      ],
      "text/plain": [
       "                   Number_of_Orders\n",
       "Name                               \n",
       "Morgan C Miller                  28\n",
       "Grace R Lewis                    27\n",
       "Natalie M Martin                 27\n",
       "Grace J Lee                      27\n",
       "Marshall M Shen                  27\n",
       "...                             ...\n",
       "Kaitlyn R Howard                  1\n",
       "Kaitlyn O Butler                  1\n",
       "Kaitlyn M Russell                 1\n",
       "Kaitlyn M Foster                  1\n",
       "Aaron A Allen                     1\n",
       "\n",
       "[5830 rows x 1 columns]"
      ]
     },
     "execution_count": 297,
     "metadata": {},
     "output_type": "execute_result"
    }
   ],
   "source": [
    "question_3()"
   ]
  },
  {
   "cell_type": "code",
   "execution_count": null,
   "metadata": {},
   "outputs": [],
   "source": []
  },
  {
   "cell_type": "code",
   "execution_count": null,
   "metadata": {},
   "outputs": [],
   "source": []
  },
  {
   "cell_type": "code",
   "execution_count": null,
   "metadata": {},
   "outputs": [],
   "source": []
  },
  {
   "cell_type": "code",
   "execution_count": null,
   "metadata": {},
   "outputs": [],
   "source": []
  },
  {
   "cell_type": "code",
   "execution_count": null,
   "metadata": {},
   "outputs": [],
   "source": []
  },
  {
   "cell_type": "code",
   "execution_count": null,
   "metadata": {},
   "outputs": [],
   "source": []
  },
  {
   "cell_type": "code",
   "execution_count": null,
   "metadata": {},
   "outputs": [],
   "source": []
  },
  {
   "cell_type": "code",
   "execution_count": null,
   "metadata": {},
   "outputs": [],
   "source": []
  },
  {
   "cell_type": "markdown",
   "metadata": {},
   "source": [
    "### Análise resultado 3"
   ]
  },
  {
   "cell_type": "code",
   "execution_count": 209,
   "metadata": {},
   "outputs": [],
   "source": [
    "Person, Customer, SalesOrderHeader = question_3()"
   ]
  },
  {
   "cell_type": "code",
   "execution_count": 210,
   "metadata": {},
   "outputs": [
    {
     "data": {
      "text/plain": [
       "19972"
      ]
     },
     "execution_count": 210,
     "metadata": {},
     "output_type": "execute_result"
    }
   ],
   "source": [
    "len(Person)"
   ]
  },
  {
   "cell_type": "code",
   "execution_count": 217,
   "metadata": {},
   "outputs": [
    {
     "data": {
      "text/plain": [
       "31465"
      ]
     },
     "execution_count": 217,
     "metadata": {},
     "output_type": "execute_result"
    }
   ],
   "source": [
    "# pd.set_option('max_columns', None)\n",
    "len(Customer)"
   ]
  },
  {
   "cell_type": "code",
   "execution_count": 216,
   "metadata": {},
   "outputs": [
    {
     "data": {
      "text/plain": [
       "31465"
      ]
     },
     "execution_count": 216,
     "metadata": {},
     "output_type": "execute_result"
    }
   ],
   "source": [
    "len(SalesOrderHeader)"
   ]
  },
  {
   "cell_type": "code",
   "execution_count": 222,
   "metadata": {},
   "outputs": [
    {
     "data": {
      "text/plain": [
       "31465"
      ]
     },
     "execution_count": 222,
     "metadata": {},
     "output_type": "execute_result"
    }
   ],
   "source": [
    "len(pd.merge(Customer, SalesOrderHeader, on=\"SalesOrderID\", how=\"outer\"))"
   ]
  },
  {
   "cell_type": "code",
   "execution_count": 223,
   "metadata": {},
   "outputs": [
    {
     "data": {
      "text/plain": [
       "0"
      ]
     },
     "execution_count": 223,
     "metadata": {},
     "output_type": "execute_result"
    }
   ],
   "source": [
    "len(Customer.merge(SalesOrderHeader, on='SalesOrderID', how='outer', indicator=True)\n",
    "     .query('_merge != \"both\"')\n",
    "     .drop('_merge', 1))"
   ]
  },
  {
   "cell_type": "code",
   "execution_count": null,
   "metadata": {},
   "outputs": [],
   "source": []
  },
  {
   "cell_type": "code",
   "execution_count": null,
   "metadata": {},
   "outputs": [],
   "source": []
  },
  {
   "cell_type": "code",
   "execution_count": null,
   "metadata": {},
   "outputs": [],
   "source": []
  },
  {
   "cell_type": "code",
   "execution_count": 111,
   "metadata": {},
   "outputs": [],
   "source": [
    "# set(Person.columns).intersection(set(Customer.columns))\n",
    "# set(Person.columns).intersection(set(SalesOrderHeader.columns))\n",
    "# set(Customer.columns).intersection(set(SalesOrderHeader.columns))"
   ]
  },
  {
   "cell_type": "markdown",
   "metadata": {},
   "source": [
    "### Análise resultado 2"
   ]
  },
  {
   "cell_type": "code",
   "execution_count": 224,
   "metadata": {},
   "outputs": [],
   "source": [
    "SpecialOfferProduct = pd.read_csv(\"../data/Sales.SpecialOfferProduct.csv\", sep=\";\")\n",
    "Product = pd.read_csv(\"../data/Production.Product.csv\", sep=\";\")"
   ]
  },
  {
   "cell_type": "code",
   "execution_count": 193,
   "metadata": {},
   "outputs": [
    {
     "data": {
      "text/html": [
       "<div>\n",
       "<style scoped>\n",
       "    .dataframe tbody tr th:only-of-type {\n",
       "        vertical-align: middle;\n",
       "    }\n",
       "\n",
       "    .dataframe tbody tr th {\n",
       "        vertical-align: top;\n",
       "    }\n",
       "\n",
       "    .dataframe thead th {\n",
       "        text-align: right;\n",
       "    }\n",
       "</style>\n",
       "<table border=\"1\" class=\"dataframe\">\n",
       "  <thead>\n",
       "    <tr style=\"text-align: right;\">\n",
       "      <th></th>\n",
       "      <th>OrderQty</th>\n",
       "    </tr>\n",
       "    <tr>\n",
       "      <th>ProductID</th>\n",
       "      <th></th>\n",
       "    </tr>\n",
       "  </thead>\n",
       "  <tbody>\n",
       "    <tr>\n",
       "      <th>897</th>\n",
       "      <td>4</td>\n",
       "    </tr>\n",
       "    <tr>\n",
       "      <th>942</th>\n",
       "      <td>7</td>\n",
       "    </tr>\n",
       "    <tr>\n",
       "      <th>943</th>\n",
       "      <td>8</td>\n",
       "    </tr>\n",
       "    <tr>\n",
       "      <th>911</th>\n",
       "      <td>10</td>\n",
       "    </tr>\n",
       "    <tr>\n",
       "      <th>927</th>\n",
       "      <td>15</td>\n",
       "    </tr>\n",
       "    <tr>\n",
       "      <th>...</th>\n",
       "      <td>...</td>\n",
       "    </tr>\n",
       "    <tr>\n",
       "      <th>708</th>\n",
       "      <td>6532</td>\n",
       "    </tr>\n",
       "    <tr>\n",
       "      <th>715</th>\n",
       "      <td>6592</td>\n",
       "    </tr>\n",
       "    <tr>\n",
       "      <th>711</th>\n",
       "      <td>6743</td>\n",
       "    </tr>\n",
       "    <tr>\n",
       "      <th>870</th>\n",
       "      <td>6815</td>\n",
       "    </tr>\n",
       "    <tr>\n",
       "      <th>712</th>\n",
       "      <td>8311</td>\n",
       "    </tr>\n",
       "  </tbody>\n",
       "</table>\n",
       "<p>266 rows × 1 columns</p>\n",
       "</div>"
      ],
      "text/plain": [
       "           OrderQty\n",
       "ProductID          \n",
       "897               4\n",
       "942               7\n",
       "943               8\n",
       "911              10\n",
       "927              15\n",
       "...             ...\n",
       "708            6532\n",
       "715            6592\n",
       "711            6743\n",
       "870            6815\n",
       "712            8311\n",
       "\n",
       "[266 rows x 1 columns]"
      ]
     },
     "execution_count": 193,
     "metadata": {},
     "output_type": "execute_result"
    }
   ],
   "source": [
    "SalesOrderDetail.groupby([\"ProductID\"]).agg({\"OrderQty\":sum}).sort_values(by=[\"OrderQty\"])"
   ]
  },
  {
   "cell_type": "code",
   "execution_count": 227,
   "metadata": {},
   "outputs": [
    {
     "data": {
      "text/plain": [
       "209"
      ]
     },
     "execution_count": 227,
     "metadata": {},
     "output_type": "execute_result"
    }
   ],
   "source": [
    "len(SpecialOfferProduct.merge(Product, on='ProductID', how='outer', indicator=True)\n",
    "     .query('_merge != \"both\"')\n",
    "     .drop('_merge', 1))"
   ]
  },
  {
   "cell_type": "code",
   "execution_count": 229,
   "metadata": {},
   "outputs": [
    {
     "data": {
      "text/plain": [
       "209"
      ]
     },
     "execution_count": 229,
     "metadata": {},
     "output_type": "execute_result"
    }
   ],
   "source": [
    "len(SpecialOfferProduct.merge(Product, on='ProductID', how='right', indicator=True)\n",
    "     .query('_merge == \"right_only\"')\n",
    "     .drop('_merge', 1))"
   ]
  },
  {
   "cell_type": "code",
   "execution_count": 233,
   "metadata": {},
   "outputs": [
    {
     "data": {
      "text/plain": [
       "747"
      ]
     },
     "execution_count": 233,
     "metadata": {},
     "output_type": "execute_result"
    }
   ],
   "source": [
    "len(pd.merge(SpecialOfferProduct, Product, on=\"ProductID\", how=\"right\"))"
   ]
  },
  {
   "cell_type": "code",
   "execution_count": null,
   "metadata": {},
   "outputs": [],
   "source": []
  }
 ],
 "metadata": {
  "kernelspec": {
   "display_name": "Python 3",
   "language": "python",
   "name": "python3"
  },
  "language_info": {
   "codemirror_mode": {
    "name": "ipython",
    "version": 3
   },
   "file_extension": ".py",
   "mimetype": "text/x-python",
   "name": "python",
   "nbconvert_exporter": "python",
   "pygments_lexer": "ipython3",
   "version": "3.8.5"
  }
 },
 "nbformat": 4,
 "nbformat_minor": 4
}
