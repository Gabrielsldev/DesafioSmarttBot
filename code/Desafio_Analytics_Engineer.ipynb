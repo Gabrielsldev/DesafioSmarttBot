{
 "cells": [
  {
   "cell_type": "code",
   "execution_count": 3,
   "metadata": {},
   "outputs": [],
   "source": [
    "import pandas as pd\n",
    "import numpy as np"
   ]
  },
  {
   "cell_type": "markdown",
   "metadata": {},
   "source": [
    "# 1. Escreva uma query que retorna a quantidade de linhas na tabela Sales.SalesOrderDetail pelo campo SalesOrderID, desde que tenham pelo menos três linhas de detalhes.\n",
    "## Acha a quantidade de linhas de detalhes (SalesOrderDetailID) por SalesOrderID.\n",
    "- Após fazer uma análise exploratória dos dados, foi verificado que **para cada SalesOrderID existe uma SalesOrderDetailID.**\n",
    " - Foi feito um agrupamento da coluna SalesOrderID com a função de agregação size() para achar o número de linhas para cada SalesOrderID, **que é o mesmo número de linhas da coluna SalesOrderDetailID.**"
   ]
  },
  {
   "cell_type": "code",
   "execution_count": 24,
   "metadata": {},
   "outputs": [],
   "source": [
    "def question_1(base1=\"Sales.SalesOrderDetail.csv\"):\n",
    "    \n",
    "    # Importa base\n",
    "    SalesOrderDetail = pd.read_csv(f\"../data/{base1}\", sep=\";\")\n",
    "    \n",
    "    # Agrupa SalesOrderDetail por SalesOrderID com a função de agregação size()\n",
    "    grouped_SalesOrderDetail = SalesOrderDetail.groupby('SalesOrderID').size().reset_index(name='Entries')\n",
    "    \n",
    "    # Seleciona as linhas com número de registros maior ou igual a 3\n",
    "    answer1 = grouped_SalesOrderDetail.loc[grouped_SalesOrderDetail[\"Entries\"] >= 3]\n",
    "    \n",
    "    # Retorna o tamanho do dataframe answer, que é o resultado esperado\n",
    "    return len(answer1)"
   ]
  },
  {
   "cell_type": "code",
   "execution_count": 25,
   "metadata": {},
   "outputs": [
    {
     "data": {
      "text/plain": [
       "12757"
      ]
     },
     "execution_count": 25,
     "metadata": {},
     "output_type": "execute_result"
    }
   ],
   "source": [
    "question_1(\"Sales.SalesOrderDetail.csv\")"
   ]
  },
  {
   "cell_type": "markdown",
   "metadata": {},
   "source": [
    "# 2. Escreva uma query que ligue as tabelas Sales.SalesOrderDetail, Sales.SpecialOfferProduct e Production.Product e retorne os 3 produtos (Name) mais vendidos (pela soma de OrderQty), agrupados pelo número de dias para manufatura (DaysToManufacture).\n",
    "- Após análise exploratória dos dados, foi observado que a chave comum entre as 3 bases é a coluna **ProductID.**\n",
    "- As colunas relevantes para alcançar o resultado desejado são:\n",
    " - **OrderQty**, encontrada somente na tabela Sales.SalesOrderDetail;\n",
    " - **DaysToManufacture**, encontrada nas tabelas Sales.SpecialOfferProduct e Production.Product;\n",
    " - **Name**, encontrada nas tabelas Sales.SpecialOfferProduct e Production.Product.\n",
    "- Como DaysToManufacture e Name estão nas duas tabelas Sales.SpecialOfferProduct e Production.Product, e elas possuem os mesmos produtos, inclusive com o mesmo número de registros (504), não é necessário fazer uma relação entre essas duas tabelas.\n",
    "- Foi feito um merge entre as tabelas Sales.SalesOrderDetail.csv e Production.Product.csv utilizando como chave o ProductID\n",
    " - O resultado foi agrupado por DaysToManufacture e Name com a função de agregação sum na coluna OrderQty.\n",
    " - Foram selecionados os 3 produtos mais vendidos."
   ]
  },
  {
   "cell_type": "code",
   "execution_count": 26,
   "metadata": {},
   "outputs": [],
   "source": [
    "def question_2(base1=\"Sales.SalesOrderDetail.csv\", base2=\"Sales.SpecialOfferProduct.csv\",\n",
    "               base3=\"Production.Product.csv\"):\n",
    "    \n",
    "    # Importa bases\n",
    "    SalesOrderDetail = pd.read_csv(f\"../data/{base1}\", sep=\";\")\n",
    "    SpecialOfferProduct = pd.read_csv(f\"../data/{base3}\", sep=\";\")\n",
    "    Product = pd.read_csv(f\"../data/{base3}\", sep=\";\")\n",
    "    \n",
    "    # Não é necessário fazer o merge entre SpecialOfferProduct e Product.\n",
    "    # Não foi executado, mas, como foi solicitado no enunciado, segue:\n",
    "    # SpecialOfferProduct_Product = pd.merge(SpecialOfferProduct, Product, on=\"ProductID\", how=\"inner\")\n",
    "    \n",
    "    # Relaziona Sales.SalesOrderDetail e Production.Product para trazer a coluna OrderQty\n",
    "    Product_SalesOrderDetail = pd.merge(Product, SalesOrderDetail[[\"OrderQty\", \"ProductID\"]], on=\"ProductID\", how=\"inner\")\n",
    "    # Seleciona as colunas relevantes para diminuir o dataframe\n",
    "    Product_SalesOrderDetail = Product_SalesOrderDetail[[\"ProductID\", \"Name\", \"OrderQty\", \"DaysToManufacture\"]]\n",
    "    # Agrupa o dataframe e aplica sum na coluna OrderQty\n",
    "    Product_SalesOrderDetail = Product_SalesOrderDetail.groupby([\"DaysToManufacture\", \"Name\"]).agg({'OrderQty':sum,})\n",
    "    \n",
    "    # Seleciona os 3 produtos mais vendidos, retorna o nome agrupado por DaysToManufacture\n",
    "    answer2 = Product_SalesOrderDetail.groupby('DaysToManufacture').apply(lambda x: x.nlargest(3,\"OrderQty\")).reset_index(level=0, drop=True)\n",
    "    \n",
    "\n",
    "    return answer2"
   ]
  },
  {
   "cell_type": "code",
   "execution_count": 27,
   "metadata": {},
   "outputs": [
    {
     "data": {
      "text/html": [
       "<div>\n",
       "<style scoped>\n",
       "    .dataframe tbody tr th:only-of-type {\n",
       "        vertical-align: middle;\n",
       "    }\n",
       "\n",
       "    .dataframe tbody tr th {\n",
       "        vertical-align: top;\n",
       "    }\n",
       "\n",
       "    .dataframe thead th {\n",
       "        text-align: right;\n",
       "    }\n",
       "</style>\n",
       "<table border=\"1\" class=\"dataframe\">\n",
       "  <thead>\n",
       "    <tr style=\"text-align: right;\">\n",
       "      <th></th>\n",
       "      <th></th>\n",
       "      <th>OrderQty</th>\n",
       "    </tr>\n",
       "    <tr>\n",
       "      <th>DaysToManufacture</th>\n",
       "      <th>Name</th>\n",
       "      <th></th>\n",
       "    </tr>\n",
       "  </thead>\n",
       "  <tbody>\n",
       "    <tr>\n",
       "      <th rowspan=\"3\" valign=\"top\">0</th>\n",
       "      <th>AWC Logo Cap</th>\n",
       "      <td>8311</td>\n",
       "    </tr>\n",
       "    <tr>\n",
       "      <th>Water Bottle - 30 oz.</th>\n",
       "      <td>6815</td>\n",
       "    </tr>\n",
       "    <tr>\n",
       "      <th>Sport-100 Helmet, Blue</th>\n",
       "      <td>6743</td>\n",
       "    </tr>\n",
       "    <tr>\n",
       "      <th rowspan=\"3\" valign=\"top\">1</th>\n",
       "      <th>LL Road Frame - Black, 52</th>\n",
       "      <td>1581</td>\n",
       "    </tr>\n",
       "    <tr>\n",
       "      <th>ML Mountain Handlebars</th>\n",
       "      <td>1465</td>\n",
       "    </tr>\n",
       "    <tr>\n",
       "      <th>ML Road Frame-W - Yellow, 44</th>\n",
       "      <td>1435</td>\n",
       "    </tr>\n",
       "    <tr>\n",
       "      <th rowspan=\"3\" valign=\"top\">2</th>\n",
       "      <th>HL Mountain Frame - Silver, 38</th>\n",
       "      <td>1206</td>\n",
       "    </tr>\n",
       "    <tr>\n",
       "      <th>ML Road Frame-W - Yellow, 38</th>\n",
       "      <td>895</td>\n",
       "    </tr>\n",
       "    <tr>\n",
       "      <th>HL Mountain Frame - Black, 38</th>\n",
       "      <td>659</td>\n",
       "    </tr>\n",
       "    <tr>\n",
       "      <th rowspan=\"3\" valign=\"top\">4</th>\n",
       "      <th>Mountain-200 Black, 38</th>\n",
       "      <td>2977</td>\n",
       "    </tr>\n",
       "    <tr>\n",
       "      <th>Mountain-200 Black, 42</th>\n",
       "      <td>2664</td>\n",
       "    </tr>\n",
       "    <tr>\n",
       "      <th>Mountain-200 Silver, 38</th>\n",
       "      <td>2394</td>\n",
       "    </tr>\n",
       "  </tbody>\n",
       "</table>\n",
       "</div>"
      ],
      "text/plain": [
       "                                                  OrderQty\n",
       "DaysToManufacture Name                                    \n",
       "0                 AWC Logo Cap                        8311\n",
       "                  Water Bottle - 30 oz.               6815\n",
       "                  Sport-100 Helmet, Blue              6743\n",
       "1                 LL Road Frame - Black, 52           1581\n",
       "                  ML Mountain Handlebars              1465\n",
       "                  ML Road Frame-W - Yellow, 44        1435\n",
       "2                 HL Mountain Frame - Silver, 38      1206\n",
       "                  ML Road Frame-W - Yellow, 38         895\n",
       "                  HL Mountain Frame - Black, 38        659\n",
       "4                 Mountain-200 Black, 38              2977\n",
       "                  Mountain-200 Black, 42              2664\n",
       "                  Mountain-200 Silver, 38             2394"
      ]
     },
     "execution_count": 27,
     "metadata": {},
     "output_type": "execute_result"
    }
   ],
   "source": [
    "question_2()"
   ]
  },
  {
   "cell_type": "code",
   "execution_count": null,
   "metadata": {},
   "outputs": [],
   "source": []
  },
  {
   "cell_type": "code",
   "execution_count": null,
   "metadata": {},
   "outputs": [],
   "source": []
  },
  {
   "cell_type": "code",
   "execution_count": null,
   "metadata": {},
   "outputs": [],
   "source": []
  },
  {
   "cell_type": "code",
   "execution_count": null,
   "metadata": {},
   "outputs": [],
   "source": []
  },
  {
   "cell_type": "code",
   "execution_count": null,
   "metadata": {},
   "outputs": [],
   "source": []
  },
  {
   "cell_type": "code",
   "execution_count": null,
   "metadata": {},
   "outputs": [],
   "source": []
  }
 ],
 "metadata": {
  "kernelspec": {
   "display_name": "Python 3",
   "language": "python",
   "name": "python3"
  },
  "language_info": {
   "codemirror_mode": {
    "name": "ipython",
    "version": 3
   },
   "file_extension": ".py",
   "mimetype": "text/x-python",
   "name": "python",
   "nbconvert_exporter": "python",
   "pygments_lexer": "ipython3",
   "version": "3.8.5"
  }
 },
 "nbformat": 4,
 "nbformat_minor": 4
}
