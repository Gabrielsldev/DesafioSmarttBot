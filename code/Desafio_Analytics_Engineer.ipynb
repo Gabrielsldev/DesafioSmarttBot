{
 "cells": [
  {
   "cell_type": "code",
   "execution_count": 28,
   "metadata": {},
   "outputs": [],
   "source": [
    "import pandas as pd\n",
    "import numpy as np"
   ]
  },
  {
   "cell_type": "markdown",
   "metadata": {},
   "source": [
    "# 1. Escreva uma query que retorna a quantidade de linhas na tabela Sales.SalesOrderDetail pelo campo SalesOrderID, desde que tenham pelo menos três linhas de detalhes.\n",
    "## Acha a quantidade de linhas de detalhes (SalesOrderDetailID) por SalesOrderID.\n",
    "- Após fazer uma análise exploratória dos dados, foi verificado que **para cada SalesOrderID existe uma SalesOrderDetailID.**\n",
    " - Foi feito um agrupamento da coluna SalesOrderID com a função de agregação size() para achar o número de linhas para cada SalesOrderID, **que é o mesmo número de linhas da coluna SalesOrderDetailID.**"
   ]
  },
  {
   "cell_type": "code",
   "execution_count": 29,
   "metadata": {},
   "outputs": [],
   "source": [
    "def question_1(base1=\"Sales.SalesOrderDetail.csv\"):\n",
    "    \n",
    "    # Importa base\n",
    "    SalesOrderDetail = pd.read_csv(f\"../data/{base1}\", sep=\";\")\n",
    "    \n",
    "    # Agrupa SalesOrderDetail por SalesOrderID com a função de agregação size()\n",
    "    grouped_SalesOrderDetail = SalesOrderDetail.groupby('SalesOrderID').size().reset_index(name='Entries')\n",
    "    \n",
    "    # Seleciona as linhas com número de registros maior ou igual a 3\n",
    "    answer1 = grouped_SalesOrderDetail.loc[grouped_SalesOrderDetail[\"Entries\"] >= 3]\n",
    "    \n",
    "    # Retorna o tamanho do dataframe answer, que é o resultado esperado\n",
    "    return len(answer1)"
   ]
  },
  {
   "cell_type": "code",
   "execution_count": 30,
   "metadata": {},
   "outputs": [
    {
     "data": {
      "text/plain": [
       "12757"
      ]
     },
     "execution_count": 30,
     "metadata": {},
     "output_type": "execute_result"
    }
   ],
   "source": [
    "question_1(\"Sales.SalesOrderDetail.csv\")"
   ]
  },
  {
   "cell_type": "markdown",
   "metadata": {},
   "source": [
    "# 2. Escreva uma query que ligue as tabelas Sales.SalesOrderDetail, Sales.SpecialOfferProduct e Production.Product e retorne os 3 produtos (Name) mais vendidos (pela soma de OrderQty), agrupados pelo número de dias para manufatura (DaysToManufacture).\n",
    "- Após análise exploratória dos dados, foi observado que a chave comum entre as 3 bases é a coluna **ProductID.**\n",
    "- As colunas relevantes para alcançar o resultado desejado são:\n",
    " - **OrderQty**, encontrada somente na tabela Sales.SalesOrderDetail;\n",
    " - **DaysToManufacture**, encontrada nas tabelas Sales.SpecialOfferProduct e Production.Product;\n",
    " - **Name**, encontrada nas tabelas Sales.SpecialOfferProduct e Production.Product.\n",
    "- Como DaysToManufacture e Name estão nas duas tabelas Sales.SpecialOfferProduct e Production.Product, e elas possuem os mesmos produtos, inclusive com o mesmo número de registros (504), não é necessário fazer uma relação entre essas duas tabelas.\n",
    "- Foi feito um merge entre as tabelas Sales.SalesOrderDetail.csv e Production.Product.csv utilizando como chave o ProductID\n",
    " - O resultado foi agrupado por DaysToManufacture e Name com a função de agregação sum na coluna OrderQty.\n",
    " - Foram selecionados os 3 produtos mais vendidos.\n",
    " \n",
    " # ALTERAR DESCRIÇÃO"
   ]
  },
  {
   "cell_type": "code",
   "execution_count": 420,
   "metadata": {},
   "outputs": [],
   "source": [
    "# def question_2(base1=\"Sales.SalesOrderDetail.csv\", base2=\"Sales.SpecialOfferProduct.csv\",\n",
    "#                base3=\"Production.Product.csv\"):\n",
    "    \n",
    "#     # Importa bases\n",
    "#     SalesOrderDetail = pd.read_csv(f\"../data/{base1}\", sep=\";\")\n",
    "#     SpecialOfferProduct = pd.read_csv(f\"../data/{base3}\", sep=\";\")\n",
    "#     Product = pd.read_csv(f\"../data/{base3}\", sep=\";\")\n",
    "    \n",
    "#     # Não é necessário fazer o merge entre SpecialOfferProduct e Product.\n",
    "#     # Não foi executado, mas, como foi solicitado no enunciado, segue:\n",
    "#     # SpecialOfferProduct_Product = pd.merge(SpecialOfferProduct, Product, on=\"ProductID\", how=\"inner\")\n",
    "    \n",
    "#     # Relaziona Sales.SalesOrderDetail e Production.Product para trazer a coluna OrderQty\n",
    "#     Product_SalesOrderDetail = pd.merge(Product, SalesOrderDetail[[\"OrderQty\", \"ProductID\"]], on=\"ProductID\", how=\"inner\")\n",
    "    \n",
    "#     # Seleciona as colunas relevantes para diminuir o dataframe\n",
    "#     Product_SalesOrderDetail = Product_SalesOrderDetail[[\"ProductID\", \"Name\", \"OrderQty\", \"DaysToManufacture\"]]\n",
    "    \n",
    "#     # Agrupa o dataframe e aplica sum na coluna OrderQty\n",
    "#     Product_SalesOrderDetail = Product_SalesOrderDetail.groupby([\"DaysToManufacture\", \"Name\"]).agg({'OrderQty':sum,})\n",
    "    \n",
    "#     # Seleciona os 3 produtos mais vendidos, retorna o nome agrupado por DaysToManufacture\n",
    "#     answer2 = Product_SalesOrderDetail.groupby('DaysToManufacture').apply(lambda x: x.nlargest(3,\"OrderQty\")).reset_index(level=0, drop=True)\n",
    "    \n",
    "\n",
    "#     return answer2\n",
    "\n",
    "\n",
    "def question_2(base1=\"Sales.SalesOrderDetail.csv\", base2=\"Sales.SpecialOfferProduct.csv\",\n",
    "               base3=\"Production.Product.csv\"):\n",
    "    \n",
    "    # Importa bases\n",
    "    SalesOrderDetail = pd.read_csv(f\"../data/{base1}\", sep=\";\")\n",
    "    SpecialOfferProduct = pd.read_csv(f\"../data/{base2}\", sep=\";\")\n",
    "    Product = pd.read_csv(f\"../data/{base3}\", sep=\";\")\n",
    "    \n",
    "    # Relaciona SpecialOfferProduct e Product para trazer os produtos a mais de SpecialOfferProduct\n",
    "    SpecialOfferProduct_Product = pd.merge(SpecialOfferProduct, Product, on=\"ProductID\", how=\"left\")\n",
    "    \n",
    "    # Relaciona Sales.SalesOrderDetail e Production.Product para trazer a coluna OrderQty\n",
    "    Product_SalesOrderDetail = pd.merge(SpecialOfferProduct_Product, SalesOrderDetail[[\"OrderQty\", \"ProductID\"]], on=\"ProductID\", how=\"inner\")\n",
    "    \n",
    "    # Seleciona as colunas relevantes para diminuir o dataframe\n",
    "    Product_SalesOrderDetail = Product_SalesOrderDetail[[\"ProductID\", \"Name\", \"OrderQty\", \"DaysToManufacture\"]]\n",
    "    \n",
    "    # Agrupa o dataframe e aplica sum na coluna OrderQty\n",
    "    Product_SalesOrderDetail = Product_SalesOrderDetail.groupby([\"DaysToManufacture\", \"Name\"]).agg({'OrderQty':sum,})\n",
    "    \n",
    "    # Seleciona os 3 produtos mais vendidos, retorna o nome agrupado por DaysToManufacture\n",
    "    answer2 = Product_SalesOrderDetail.groupby('DaysToManufacture').apply(lambda x: x.nlargest(3,\"OrderQty\")).reset_index(level=0, drop=True)\n",
    "    \n",
    "    return answer2"
   ]
  },
  {
   "cell_type": "code",
   "execution_count": 421,
   "metadata": {},
   "outputs": [
    {
     "data": {
      "text/html": [
       "<div>\n",
       "<style scoped>\n",
       "    .dataframe tbody tr th:only-of-type {\n",
       "        vertical-align: middle;\n",
       "    }\n",
       "\n",
       "    .dataframe tbody tr th {\n",
       "        vertical-align: top;\n",
       "    }\n",
       "\n",
       "    .dataframe thead th {\n",
       "        text-align: right;\n",
       "    }\n",
       "</style>\n",
       "<table border=\"1\" class=\"dataframe\">\n",
       "  <thead>\n",
       "    <tr style=\"text-align: right;\">\n",
       "      <th></th>\n",
       "      <th></th>\n",
       "      <th>OrderQty</th>\n",
       "    </tr>\n",
       "    <tr>\n",
       "      <th>DaysToManufacture</th>\n",
       "      <th>Name</th>\n",
       "      <th></th>\n",
       "    </tr>\n",
       "  </thead>\n",
       "  <tbody>\n",
       "    <tr>\n",
       "      <th rowspan=\"3\" valign=\"top\">0</th>\n",
       "      <th>Sport-100 Helmet, Blue</th>\n",
       "      <td>33715</td>\n",
       "    </tr>\n",
       "    <tr>\n",
       "      <th>AWC Logo Cap</th>\n",
       "      <td>33244</td>\n",
       "    </tr>\n",
       "    <tr>\n",
       "      <th>Sport-100 Helmet, Black</th>\n",
       "      <td>32660</td>\n",
       "    </tr>\n",
       "    <tr>\n",
       "      <th rowspan=\"3\" valign=\"top\">1</th>\n",
       "      <th>LL Road Frame - Black, 52</th>\n",
       "      <td>4743</td>\n",
       "    </tr>\n",
       "    <tr>\n",
       "      <th>ML Road Frame-W - Yellow, 44</th>\n",
       "      <td>4305</td>\n",
       "    </tr>\n",
       "    <tr>\n",
       "      <th>LL Road Frame - Red, 44</th>\n",
       "      <td>2973</td>\n",
       "    </tr>\n",
       "    <tr>\n",
       "      <th rowspan=\"3\" valign=\"top\">2</th>\n",
       "      <th>HL Mountain Frame - Silver, 38</th>\n",
       "      <td>2412</td>\n",
       "    </tr>\n",
       "    <tr>\n",
       "      <th>ML Road Frame-W - Yellow, 38</th>\n",
       "      <td>895</td>\n",
       "    </tr>\n",
       "    <tr>\n",
       "      <th>LL Mountain Frame - Silver, 40</th>\n",
       "      <td>884</td>\n",
       "    </tr>\n",
       "    <tr>\n",
       "      <th rowspan=\"3\" valign=\"top\">4</th>\n",
       "      <th>Mountain-200 Black, 38</th>\n",
       "      <td>11908</td>\n",
       "    </tr>\n",
       "    <tr>\n",
       "      <th>Road-650 Red, 44</th>\n",
       "      <td>9016</td>\n",
       "    </tr>\n",
       "    <tr>\n",
       "      <th>Mountain-200 Black, 42</th>\n",
       "      <td>7992</td>\n",
       "    </tr>\n",
       "  </tbody>\n",
       "</table>\n",
       "</div>"
      ],
      "text/plain": [
       "                                                  OrderQty\n",
       "DaysToManufacture Name                                    \n",
       "0                 Sport-100 Helmet, Blue             33715\n",
       "                  AWC Logo Cap                       33244\n",
       "                  Sport-100 Helmet, Black            32660\n",
       "1                 LL Road Frame - Black, 52           4743\n",
       "                  ML Road Frame-W - Yellow, 44        4305\n",
       "                  LL Road Frame - Red, 44             2973\n",
       "2                 HL Mountain Frame - Silver, 38      2412\n",
       "                  ML Road Frame-W - Yellow, 38         895\n",
       "                  LL Mountain Frame - Silver, 40       884\n",
       "4                 Mountain-200 Black, 38             11908\n",
       "                  Road-650 Red, 44                    9016\n",
       "                  Mountain-200 Black, 42              7992"
      ]
     },
     "execution_count": 421,
     "metadata": {},
     "output_type": "execute_result"
    }
   ],
   "source": [
    "question_2()"
   ]
  },
  {
   "cell_type": "markdown",
   "metadata": {},
   "source": [
    "# 3. Escreva uma query ligando as tabelas Person.Person, Sales.Customer e Sales.SalesOrderHeader de forma a obter uma lista de nomes de clientes e uma contagem de pedidos efetuados.\n",
    "- Nome dos cliente consta na tabela Person.Person\n",
    "- Após análise exploratória, foi identificado que as chaves BusinessEntityID e CustomerID são as mesmas"
   ]
  },
  {
   "cell_type": "code",
   "execution_count": 403,
   "metadata": {},
   "outputs": [],
   "source": [
    "def question_3(base1=\"Person.Person.csv\", base2=\"Sales.Customer.csv\",\n",
    "               base3=\"Sales.SalesOrderHeader.csv\"):\n",
    "    \n",
    "    # Importa bases\n",
    "    Person = pd.read_csv(f\"../data/{base1}\", sep=\";\")\n",
    "    Customer = pd.read_csv(f\"../data/{base2}\", sep=\";\")\n",
    "    SalesOrderHeader = pd.read_csv(f\"../data/{base3}\", sep=\";\")\n",
    "    \n",
    "    # Nesse caso não é necessário\n",
    "    Person_Customer = pd.merge(Customer, Person, left_on=\"CustomerID\", right_on=\"BusinessEntityID\", how=\"inner\")\n",
    "    \n",
    "    \n",
    "    SalesOrderHeader_Customer = pd.merge(SalesOrderHeader, Person_Customer[[\"FirstName\", \"MiddleName\", \"LastName\", \"CustomerID\"]],\n",
    "                               on=\"CustomerID\", how=\"inner\")\n",
    "    \n",
    "    SalesOrderHeader_Customer[\"Name\"] = SalesOrderHeader_Customer[\"FirstName\"]+\" \"+SalesOrderHeader_Customer[\"MiddleName\"]+\" \"+SalesOrderHeader_Customer[\"LastName\"]\n",
    "    \n",
    "    SalesOrderHeader_Customer = SalesOrderHeader_Customer.groupby(\"Name\")[\"SalesOrderID\"].size().sort_values(ascending=False)\n",
    "    \n",
    "    answer3 = SalesOrderHeader_Customer.to_frame(name=\"Number_of_Orders\")\n",
    "    \n",
    "    return answer3"
   ]
  },
  {
   "cell_type": "code",
   "execution_count": 404,
   "metadata": {
    "scrolled": false
   },
   "outputs": [
    {
     "data": {
      "text/html": [
       "<div>\n",
       "<style scoped>\n",
       "    .dataframe tbody tr th:only-of-type {\n",
       "        vertical-align: middle;\n",
       "    }\n",
       "\n",
       "    .dataframe tbody tr th {\n",
       "        vertical-align: top;\n",
       "    }\n",
       "\n",
       "    .dataframe thead th {\n",
       "        text-align: right;\n",
       "    }\n",
       "</style>\n",
       "<table border=\"1\" class=\"dataframe\">\n",
       "  <thead>\n",
       "    <tr style=\"text-align: right;\">\n",
       "      <th></th>\n",
       "      <th>Number_of_Orders</th>\n",
       "    </tr>\n",
       "    <tr>\n",
       "      <th>Name</th>\n",
       "      <th></th>\n",
       "    </tr>\n",
       "  </thead>\n",
       "  <tbody>\n",
       "    <tr>\n",
       "      <th>Morgan C Miller</th>\n",
       "      <td>28</td>\n",
       "    </tr>\n",
       "    <tr>\n",
       "      <th>Grace R Lewis</th>\n",
       "      <td>27</td>\n",
       "    </tr>\n",
       "    <tr>\n",
       "      <th>Natalie M Martin</th>\n",
       "      <td>27</td>\n",
       "    </tr>\n",
       "    <tr>\n",
       "      <th>Grace J Lee</th>\n",
       "      <td>27</td>\n",
       "    </tr>\n",
       "    <tr>\n",
       "      <th>Marshall M Shen</th>\n",
       "      <td>27</td>\n",
       "    </tr>\n",
       "    <tr>\n",
       "      <th>...</th>\n",
       "      <td>...</td>\n",
       "    </tr>\n",
       "    <tr>\n",
       "      <th>Kaitlyn R Howard</th>\n",
       "      <td>1</td>\n",
       "    </tr>\n",
       "    <tr>\n",
       "      <th>Kaitlyn O Butler</th>\n",
       "      <td>1</td>\n",
       "    </tr>\n",
       "    <tr>\n",
       "      <th>Kaitlyn M Russell</th>\n",
       "      <td>1</td>\n",
       "    </tr>\n",
       "    <tr>\n",
       "      <th>Kaitlyn M Foster</th>\n",
       "      <td>1</td>\n",
       "    </tr>\n",
       "    <tr>\n",
       "      <th>Aaron A Allen</th>\n",
       "      <td>1</td>\n",
       "    </tr>\n",
       "  </tbody>\n",
       "</table>\n",
       "<p>5830 rows × 1 columns</p>\n",
       "</div>"
      ],
      "text/plain": [
       "                   Number_of_Orders\n",
       "Name                               \n",
       "Morgan C Miller                  28\n",
       "Grace R Lewis                    27\n",
       "Natalie M Martin                 27\n",
       "Grace J Lee                      27\n",
       "Marshall M Shen                  27\n",
       "...                             ...\n",
       "Kaitlyn R Howard                  1\n",
       "Kaitlyn O Butler                  1\n",
       "Kaitlyn M Russell                 1\n",
       "Kaitlyn M Foster                  1\n",
       "Aaron A Allen                     1\n",
       "\n",
       "[5830 rows x 1 columns]"
      ]
     },
     "execution_count": 404,
     "metadata": {},
     "output_type": "execute_result"
    }
   ],
   "source": [
    "question_3()"
   ]
  },
  {
   "cell_type": "code",
   "execution_count": 382,
   "metadata": {
    "scrolled": true
   },
   "outputs": [
    {
     "data": {
      "text/plain": [
       "['BusinessEntityID',\n",
       " 'PersonType',\n",
       " 'NameStyle',\n",
       " 'Title',\n",
       " 'FirstName',\n",
       " 'MiddleName',\n",
       " 'LastName',\n",
       " 'Suffix',\n",
       " 'EmailPromotion',\n",
       " 'AdditionalContactInfo',\n",
       " 'Demographics',\n",
       " 'rowguid',\n",
       " 'ModifiedDate']"
      ]
     },
     "execution_count": 382,
     "metadata": {},
     "output_type": "execute_result"
    }
   ],
   "source": [
    "list(question_3())"
   ]
  },
  {
   "cell_type": "code",
   "execution_count": 379,
   "metadata": {},
   "outputs": [
    {
     "data": {
      "text/plain": [
       "['CustomerID',\n",
       " 'PersonID',\n",
       " 'StoreID',\n",
       " 'TerritoryID',\n",
       " 'AccountNumber',\n",
       " 'rowguid',\n",
       " 'ModifiedDate']"
      ]
     },
     "execution_count": 379,
     "metadata": {},
     "output_type": "execute_result"
    }
   ],
   "source": [
    "list(question_3())"
   ]
  },
  {
   "cell_type": "code",
   "execution_count": 377,
   "metadata": {},
   "outputs": [
    {
     "data": {
      "text/plain": [
       "['SalesOrderID',\n",
       " 'RevisionNumber',\n",
       " 'OrderDate',\n",
       " 'DueDate',\n",
       " 'ShipDate',\n",
       " 'Status',\n",
       " 'OnlineOrderFlag',\n",
       " 'SalesOrderNumber',\n",
       " 'PurchaseOrderNumber',\n",
       " 'AccountNumber',\n",
       " 'CustomerID',\n",
       " 'SalesPersonID',\n",
       " 'TerritoryID',\n",
       " 'BillToAddressID',\n",
       " 'ShipToAddressID',\n",
       " 'ShipMethodID',\n",
       " 'CreditCardID',\n",
       " 'CreditCardApprovalCode',\n",
       " 'CurrencyRateID',\n",
       " 'SubTotal',\n",
       " 'TaxAmt',\n",
       " 'Freight',\n",
       " 'TotalDue',\n",
       " 'Comment',\n",
       " 'rowguid',\n",
       " 'ModifiedDate']"
      ]
     },
     "execution_count": 377,
     "metadata": {},
     "output_type": "execute_result"
    }
   ],
   "source": [
    "list(question_3())"
   ]
  },
  {
   "cell_type": "markdown",
   "metadata": {},
   "source": [
    "# 4. Escreva uma query usando as tabelas Sales.SalesOrderHeader, Sales.SalesOrderDetail e Production.Product, de forma a obter a soma total de produtos (OrderQty) por ProductID e OrderDate."
   ]
  },
  {
   "cell_type": "code",
   "execution_count": 430,
   "metadata": {},
   "outputs": [],
   "source": [
    "def question_4(base1=\"Sales.SalesOrderHeader.csv\", base2=\"Sales.SalesOrderDetail.csv\",\n",
    "               base3=\"Production.Product.csv\"):\n",
    "    \n",
    "    # Importa bases\n",
    "    SalesOrderHeader = pd.read_csv(f\"../data/{base1}\", sep=\";\")\n",
    "    SalesOrderDetail = pd.read_csv(f\"../data/{base2}\", sep=\";\")\n",
    "    Product = pd.read_csv(f\"../data/{base3}\", sep=\";\")\n",
    "\n",
    "    \n",
    "    SalesOrderHeader_Detail = pd.merge(SalesOrderHeader, SalesOrderDetail, on=\"SalesOrderID\", how=\"inner\")\n",
    "    \n",
    "\n",
    "    SalesOrderHeader_Detail_Product = pd.merge(SalesOrderHeader_Detail, Product[[\"ProductID\"]], on=\"ProductID\", how=\"inner\")\n",
    "    \n",
    "    # Seleciona as colunas relevantes para diminuir o dataframe\n",
    "    SalesOrderHeader_Detail_Product = SalesOrderHeader_Detail_Product[[\"ProductID\", \n",
    "                                                                       \"OrderQty\", \"OrderDate\"]]\n",
    "    \n",
    "    # Agrupa o dataframe e aplica sum na coluna OrderQty\n",
    "    answer4 = SalesOrderHeader_Detail_Product.groupby([\"ProductID\", \"OrderDate\"]).agg({'OrderQty':sum,})\n",
    "\n",
    "    \n",
    "    return answer4"
   ]
  },
  {
   "cell_type": "code",
   "execution_count": 431,
   "metadata": {},
   "outputs": [
    {
     "data": {
      "text/html": [
       "<div>\n",
       "<style scoped>\n",
       "    .dataframe tbody tr th:only-of-type {\n",
       "        vertical-align: middle;\n",
       "    }\n",
       "\n",
       "    .dataframe tbody tr th {\n",
       "        vertical-align: top;\n",
       "    }\n",
       "\n",
       "    .dataframe thead th {\n",
       "        text-align: right;\n",
       "    }\n",
       "</style>\n",
       "<table border=\"1\" class=\"dataframe\">\n",
       "  <thead>\n",
       "    <tr style=\"text-align: right;\">\n",
       "      <th></th>\n",
       "      <th></th>\n",
       "      <th>OrderQty</th>\n",
       "    </tr>\n",
       "    <tr>\n",
       "      <th>ProductID</th>\n",
       "      <th>OrderDate</th>\n",
       "      <th></th>\n",
       "    </tr>\n",
       "  </thead>\n",
       "  <tbody>\n",
       "    <tr>\n",
       "      <th rowspan=\"5\" valign=\"top\">707</th>\n",
       "      <th>2011-05-31 00:00:00.000</th>\n",
       "      <td>24</td>\n",
       "    </tr>\n",
       "    <tr>\n",
       "      <th>2011-07-01 00:00:00.000</th>\n",
       "      <td>58</td>\n",
       "    </tr>\n",
       "    <tr>\n",
       "      <th>2011-08-01 00:00:00.000</th>\n",
       "      <td>55</td>\n",
       "    </tr>\n",
       "    <tr>\n",
       "      <th>2011-08-31 00:00:00.000</th>\n",
       "      <td>41</td>\n",
       "    </tr>\n",
       "    <tr>\n",
       "      <th>2011-10-01 00:00:00.000</th>\n",
       "      <td>77</td>\n",
       "    </tr>\n",
       "    <tr>\n",
       "      <th>...</th>\n",
       "      <th>...</th>\n",
       "      <td>...</td>\n",
       "    </tr>\n",
       "    <tr>\n",
       "      <th rowspan=\"5\" valign=\"top\">999</th>\n",
       "      <th>2014-05-25 00:00:00.000</th>\n",
       "      <td>3</td>\n",
       "    </tr>\n",
       "    <tr>\n",
       "      <th>2014-05-27 00:00:00.000</th>\n",
       "      <td>1</td>\n",
       "    </tr>\n",
       "    <tr>\n",
       "      <th>2014-05-28 00:00:00.000</th>\n",
       "      <td>3</td>\n",
       "    </tr>\n",
       "    <tr>\n",
       "      <th>2014-05-29 00:00:00.000</th>\n",
       "      <td>1</td>\n",
       "    </tr>\n",
       "    <tr>\n",
       "      <th>2014-05-30 00:00:00.000</th>\n",
       "      <td>1</td>\n",
       "    </tr>\n",
       "  </tbody>\n",
       "</table>\n",
       "<p>26878 rows × 1 columns</p>\n",
       "</div>"
      ],
      "text/plain": [
       "                                   OrderQty\n",
       "ProductID OrderDate                        \n",
       "707       2011-05-31 00:00:00.000        24\n",
       "          2011-07-01 00:00:00.000        58\n",
       "          2011-08-01 00:00:00.000        55\n",
       "          2011-08-31 00:00:00.000        41\n",
       "          2011-10-01 00:00:00.000        77\n",
       "...                                     ...\n",
       "999       2014-05-25 00:00:00.000         3\n",
       "          2014-05-27 00:00:00.000         1\n",
       "          2014-05-28 00:00:00.000         3\n",
       "          2014-05-29 00:00:00.000         1\n",
       "          2014-05-30 00:00:00.000         1\n",
       "\n",
       "[26878 rows x 1 columns]"
      ]
     },
     "execution_count": 431,
     "metadata": {},
     "output_type": "execute_result"
    }
   ],
   "source": [
    "question_4()"
   ]
  },
  {
   "cell_type": "markdown",
   "metadata": {},
   "source": [
    "# 5. Escreva uma query mostrando os campos SalesOrderID, OrderDate e TotalDue da tabela Sales.SalesOrderHeader. Obtenha apenas as linhas onde a ordem tenha sido feita durante o mês de setembro/2011 e o total devido esteja acima de 1.000. Ordene pelo total devido decrescente."
   ]
  },
  {
   "cell_type": "code",
   "execution_count": null,
   "metadata": {},
   "outputs": [],
   "source": []
  },
  {
   "cell_type": "code",
   "execution_count": null,
   "metadata": {},
   "outputs": [],
   "source": []
  },
  {
   "cell_type": "code",
   "execution_count": null,
   "metadata": {},
   "outputs": [],
   "source": []
  },
  {
   "cell_type": "code",
   "execution_count": null,
   "metadata": {},
   "outputs": [],
   "source": []
  },
  {
   "cell_type": "code",
   "execution_count": null,
   "metadata": {},
   "outputs": [],
   "source": []
  },
  {
   "cell_type": "code",
   "execution_count": null,
   "metadata": {},
   "outputs": [],
   "source": []
  },
  {
   "cell_type": "code",
   "execution_count": null,
   "metadata": {},
   "outputs": [],
   "source": []
  },
  {
   "cell_type": "code",
   "execution_count": null,
   "metadata": {},
   "outputs": [],
   "source": []
  },
  {
   "cell_type": "code",
   "execution_count": null,
   "metadata": {},
   "outputs": [],
   "source": []
  },
  {
   "cell_type": "markdown",
   "metadata": {},
   "source": [
    "### Análise resultado 3"
   ]
  },
  {
   "cell_type": "code",
   "execution_count": 209,
   "metadata": {},
   "outputs": [],
   "source": [
    "Person, Customer, SalesOrderHeader = question_3()"
   ]
  },
  {
   "cell_type": "code",
   "execution_count": 210,
   "metadata": {},
   "outputs": [
    {
     "data": {
      "text/plain": [
       "19972"
      ]
     },
     "execution_count": 210,
     "metadata": {},
     "output_type": "execute_result"
    }
   ],
   "source": [
    "len(Person)"
   ]
  },
  {
   "cell_type": "code",
   "execution_count": 217,
   "metadata": {},
   "outputs": [
    {
     "data": {
      "text/plain": [
       "31465"
      ]
     },
     "execution_count": 217,
     "metadata": {},
     "output_type": "execute_result"
    }
   ],
   "source": [
    "# pd.set_option('max_columns', None)\n",
    "len(Customer)"
   ]
  },
  {
   "cell_type": "code",
   "execution_count": 216,
   "metadata": {},
   "outputs": [
    {
     "data": {
      "text/plain": [
       "31465"
      ]
     },
     "execution_count": 216,
     "metadata": {},
     "output_type": "execute_result"
    }
   ],
   "source": [
    "len(SalesOrderHeader)"
   ]
  },
  {
   "cell_type": "code",
   "execution_count": 222,
   "metadata": {},
   "outputs": [
    {
     "data": {
      "text/plain": [
       "31465"
      ]
     },
     "execution_count": 222,
     "metadata": {},
     "output_type": "execute_result"
    }
   ],
   "source": [
    "len(pd.merge(Customer, SalesOrderHeader, on=\"SalesOrderID\", how=\"outer\"))"
   ]
  },
  {
   "cell_type": "code",
   "execution_count": 223,
   "metadata": {},
   "outputs": [
    {
     "data": {
      "text/plain": [
       "0"
      ]
     },
     "execution_count": 223,
     "metadata": {},
     "output_type": "execute_result"
    }
   ],
   "source": [
    "len(Customer.merge(SalesOrderHeader, on='SalesOrderID', how='outer', indicator=True)\n",
    "     .query('_merge != \"both\"')\n",
    "     .drop('_merge', 1))"
   ]
  },
  {
   "cell_type": "code",
   "execution_count": null,
   "metadata": {},
   "outputs": [],
   "source": []
  },
  {
   "cell_type": "code",
   "execution_count": null,
   "metadata": {},
   "outputs": [],
   "source": []
  },
  {
   "cell_type": "code",
   "execution_count": null,
   "metadata": {},
   "outputs": [],
   "source": []
  },
  {
   "cell_type": "code",
   "execution_count": 111,
   "metadata": {},
   "outputs": [],
   "source": [
    "# set(Person.columns).intersection(set(Customer.columns))\n",
    "# set(Person.columns).intersection(set(SalesOrderHeader.columns))\n",
    "# set(Customer.columns).intersection(set(SalesOrderHeader.columns))"
   ]
  },
  {
   "cell_type": "markdown",
   "metadata": {},
   "source": [
    "### Análise resultado 2"
   ]
  },
  {
   "cell_type": "code",
   "execution_count": 351,
   "metadata": {},
   "outputs": [],
   "source": [
    "SpecialOfferProduct = pd.read_csv(\"../data/Sales.SpecialOfferProduct.csv\", sep=\";\")\n",
    "Product = pd.read_csv(\"../data/Production.Product.csv\", sep=\";\")"
   ]
  },
  {
   "cell_type": "code",
   "execution_count": 353,
   "metadata": {},
   "outputs": [
    {
     "data": {
      "text/html": [
       "<div>\n",
       "<style scoped>\n",
       "    .dataframe tbody tr th:only-of-type {\n",
       "        vertical-align: middle;\n",
       "    }\n",
       "\n",
       "    .dataframe tbody tr th {\n",
       "        vertical-align: top;\n",
       "    }\n",
       "\n",
       "    .dataframe thead th {\n",
       "        text-align: right;\n",
       "    }\n",
       "</style>\n",
       "<table border=\"1\" class=\"dataframe\">\n",
       "  <thead>\n",
       "    <tr style=\"text-align: right;\">\n",
       "      <th></th>\n",
       "      <th>ProductID</th>\n",
       "      <th>Name</th>\n",
       "      <th>ProductNumber</th>\n",
       "      <th>MakeFlag</th>\n",
       "      <th>FinishedGoodsFlag</th>\n",
       "      <th>Color</th>\n",
       "      <th>SafetyStockLevel</th>\n",
       "      <th>ReorderPoint</th>\n",
       "      <th>StandardCost</th>\n",
       "      <th>ListPrice</th>\n",
       "      <th>Size</th>\n",
       "      <th>SizeUnitMeasureCode</th>\n",
       "      <th>WeightUnitMeasureCode</th>\n",
       "      <th>Weight</th>\n",
       "      <th>DaysToManufacture</th>\n",
       "      <th>ProductLine</th>\n",
       "      <th>Class</th>\n",
       "      <th>Style</th>\n",
       "      <th>ProductSubcategoryID</th>\n",
       "      <th>ProductModelID</th>\n",
       "      <th>SellStartDate</th>\n",
       "      <th>SellEndDate</th>\n",
       "      <th>DiscontinuedDate</th>\n",
       "      <th>rowguid</th>\n",
       "      <th>ModifiedDate</th>\n",
       "    </tr>\n",
       "  </thead>\n",
       "  <tbody>\n",
       "    <tr>\n",
       "      <th>0</th>\n",
       "      <td>1</td>\n",
       "      <td>Adjustable Race</td>\n",
       "      <td>AR-5381</td>\n",
       "      <td>0</td>\n",
       "      <td>0</td>\n",
       "      <td>NaN</td>\n",
       "      <td>1000</td>\n",
       "      <td>750</td>\n",
       "      <td>0,00</td>\n",
       "      <td>0,00</td>\n",
       "      <td>NaN</td>\n",
       "      <td>NaN</td>\n",
       "      <td>NaN</td>\n",
       "      <td>NaN</td>\n",
       "      <td>0</td>\n",
       "      <td>NaN</td>\n",
       "      <td>NaN</td>\n",
       "      <td>NaN</td>\n",
       "      <td>NaN</td>\n",
       "      <td>NaN</td>\n",
       "      <td>2008-04-30 00:00:00.000</td>\n",
       "      <td>NaN</td>\n",
       "      <td>NaN</td>\n",
       "      <td>694215B7-08F7-4C0D-ACB1-D734BA44C0C8</td>\n",
       "      <td>2014-02-08 10:01:36.827</td>\n",
       "    </tr>\n",
       "    <tr>\n",
       "      <th>1</th>\n",
       "      <td>2</td>\n",
       "      <td>Bearing Ball</td>\n",
       "      <td>BA-8327</td>\n",
       "      <td>0</td>\n",
       "      <td>0</td>\n",
       "      <td>NaN</td>\n",
       "      <td>1000</td>\n",
       "      <td>750</td>\n",
       "      <td>0,00</td>\n",
       "      <td>0,00</td>\n",
       "      <td>NaN</td>\n",
       "      <td>NaN</td>\n",
       "      <td>NaN</td>\n",
       "      <td>NaN</td>\n",
       "      <td>0</td>\n",
       "      <td>NaN</td>\n",
       "      <td>NaN</td>\n",
       "      <td>NaN</td>\n",
       "      <td>NaN</td>\n",
       "      <td>NaN</td>\n",
       "      <td>2008-04-30 00:00:00.000</td>\n",
       "      <td>NaN</td>\n",
       "      <td>NaN</td>\n",
       "      <td>58AE3C20-4F3A-4749-A7D4-D568806CC537</td>\n",
       "      <td>2014-02-08 10:01:36.827</td>\n",
       "    </tr>\n",
       "    <tr>\n",
       "      <th>2</th>\n",
       "      <td>3</td>\n",
       "      <td>BB Ball Bearing</td>\n",
       "      <td>BE-2349</td>\n",
       "      <td>1</td>\n",
       "      <td>0</td>\n",
       "      <td>NaN</td>\n",
       "      <td>800</td>\n",
       "      <td>600</td>\n",
       "      <td>0,00</td>\n",
       "      <td>0,00</td>\n",
       "      <td>NaN</td>\n",
       "      <td>NaN</td>\n",
       "      <td>NaN</td>\n",
       "      <td>NaN</td>\n",
       "      <td>1</td>\n",
       "      <td>NaN</td>\n",
       "      <td>NaN</td>\n",
       "      <td>NaN</td>\n",
       "      <td>NaN</td>\n",
       "      <td>NaN</td>\n",
       "      <td>2008-04-30 00:00:00.000</td>\n",
       "      <td>NaN</td>\n",
       "      <td>NaN</td>\n",
       "      <td>9C21AED2-5BFA-4F18-BCB8-F11638DC2E4E</td>\n",
       "      <td>2014-02-08 10:01:36.827</td>\n",
       "    </tr>\n",
       "    <tr>\n",
       "      <th>3</th>\n",
       "      <td>4</td>\n",
       "      <td>Headset Ball Bearings</td>\n",
       "      <td>BE-2908</td>\n",
       "      <td>0</td>\n",
       "      <td>0</td>\n",
       "      <td>NaN</td>\n",
       "      <td>800</td>\n",
       "      <td>600</td>\n",
       "      <td>0,00</td>\n",
       "      <td>0,00</td>\n",
       "      <td>NaN</td>\n",
       "      <td>NaN</td>\n",
       "      <td>NaN</td>\n",
       "      <td>NaN</td>\n",
       "      <td>0</td>\n",
       "      <td>NaN</td>\n",
       "      <td>NaN</td>\n",
       "      <td>NaN</td>\n",
       "      <td>NaN</td>\n",
       "      <td>NaN</td>\n",
       "      <td>2008-04-30 00:00:00.000</td>\n",
       "      <td>NaN</td>\n",
       "      <td>NaN</td>\n",
       "      <td>ECFED6CB-51FF-49B5-B06C-7D8AC834DB8B</td>\n",
       "      <td>2014-02-08 10:01:36.827</td>\n",
       "    </tr>\n",
       "    <tr>\n",
       "      <th>4</th>\n",
       "      <td>316</td>\n",
       "      <td>Blade</td>\n",
       "      <td>BL-2036</td>\n",
       "      <td>1</td>\n",
       "      <td>0</td>\n",
       "      <td>NaN</td>\n",
       "      <td>800</td>\n",
       "      <td>600</td>\n",
       "      <td>0,00</td>\n",
       "      <td>0,00</td>\n",
       "      <td>NaN</td>\n",
       "      <td>NaN</td>\n",
       "      <td>NaN</td>\n",
       "      <td>NaN</td>\n",
       "      <td>1</td>\n",
       "      <td>NaN</td>\n",
       "      <td>NaN</td>\n",
       "      <td>NaN</td>\n",
       "      <td>NaN</td>\n",
       "      <td>NaN</td>\n",
       "      <td>2008-04-30 00:00:00.000</td>\n",
       "      <td>NaN</td>\n",
       "      <td>NaN</td>\n",
       "      <td>E73E9750-603B-4131-89F5-3DD15ED5FF80</td>\n",
       "      <td>2014-02-08 10:01:36.827</td>\n",
       "    </tr>\n",
       "    <tr>\n",
       "      <th>...</th>\n",
       "      <td>...</td>\n",
       "      <td>...</td>\n",
       "      <td>...</td>\n",
       "      <td>...</td>\n",
       "      <td>...</td>\n",
       "      <td>...</td>\n",
       "      <td>...</td>\n",
       "      <td>...</td>\n",
       "      <td>...</td>\n",
       "      <td>...</td>\n",
       "      <td>...</td>\n",
       "      <td>...</td>\n",
       "      <td>...</td>\n",
       "      <td>...</td>\n",
       "      <td>...</td>\n",
       "      <td>...</td>\n",
       "      <td>...</td>\n",
       "      <td>...</td>\n",
       "      <td>...</td>\n",
       "      <td>...</td>\n",
       "      <td>...</td>\n",
       "      <td>...</td>\n",
       "      <td>...</td>\n",
       "      <td>...</td>\n",
       "      <td>...</td>\n",
       "    </tr>\n",
       "    <tr>\n",
       "      <th>499</th>\n",
       "      <td>995</td>\n",
       "      <td>ML Bottom Bracket</td>\n",
       "      <td>BB-8107</td>\n",
       "      <td>1</td>\n",
       "      <td>1</td>\n",
       "      <td>NaN</td>\n",
       "      <td>500</td>\n",
       "      <td>375</td>\n",
       "      <td>44,9506</td>\n",
       "      <td>101,24</td>\n",
       "      <td>NaN</td>\n",
       "      <td>NaN</td>\n",
       "      <td>G</td>\n",
       "      <td>168.00</td>\n",
       "      <td>1</td>\n",
       "      <td>NaN</td>\n",
       "      <td>M</td>\n",
       "      <td>NaN</td>\n",
       "      <td>5.0</td>\n",
       "      <td>96.0</td>\n",
       "      <td>2013-05-30 00:00:00.000</td>\n",
       "      <td>NaN</td>\n",
       "      <td>NaN</td>\n",
       "      <td>71AB847F-D091-42D6-B735-7B0C2D82FC84</td>\n",
       "      <td>2014-02-08 10:01:36.827</td>\n",
       "    </tr>\n",
       "    <tr>\n",
       "      <th>500</th>\n",
       "      <td>996</td>\n",
       "      <td>HL Bottom Bracket</td>\n",
       "      <td>BB-9108</td>\n",
       "      <td>1</td>\n",
       "      <td>1</td>\n",
       "      <td>NaN</td>\n",
       "      <td>500</td>\n",
       "      <td>375</td>\n",
       "      <td>53,9416</td>\n",
       "      <td>121,49</td>\n",
       "      <td>NaN</td>\n",
       "      <td>NaN</td>\n",
       "      <td>G</td>\n",
       "      <td>170.00</td>\n",
       "      <td>1</td>\n",
       "      <td>NaN</td>\n",
       "      <td>H</td>\n",
       "      <td>NaN</td>\n",
       "      <td>5.0</td>\n",
       "      <td>97.0</td>\n",
       "      <td>2013-05-30 00:00:00.000</td>\n",
       "      <td>NaN</td>\n",
       "      <td>NaN</td>\n",
       "      <td>230C47C5-08B2-4CE3-B706-69C0BDD62965</td>\n",
       "      <td>2014-02-08 10:01:36.827</td>\n",
       "    </tr>\n",
       "    <tr>\n",
       "      <th>501</th>\n",
       "      <td>997</td>\n",
       "      <td>Road-750 Black, 44</td>\n",
       "      <td>BK-R19B-44</td>\n",
       "      <td>1</td>\n",
       "      <td>1</td>\n",
       "      <td>Black</td>\n",
       "      <td>100</td>\n",
       "      <td>75</td>\n",
       "      <td>343,6496</td>\n",
       "      <td>539,99</td>\n",
       "      <td>44</td>\n",
       "      <td>CM</td>\n",
       "      <td>LB</td>\n",
       "      <td>19.77</td>\n",
       "      <td>4</td>\n",
       "      <td>R</td>\n",
       "      <td>L</td>\n",
       "      <td>U</td>\n",
       "      <td>2.0</td>\n",
       "      <td>31.0</td>\n",
       "      <td>2013-05-30 00:00:00.000</td>\n",
       "      <td>NaN</td>\n",
       "      <td>NaN</td>\n",
       "      <td>44CE4802-409F-43AB-9B27-CA53421805BE</td>\n",
       "      <td>2014-02-08 10:01:36.827</td>\n",
       "    </tr>\n",
       "    <tr>\n",
       "      <th>502</th>\n",
       "      <td>998</td>\n",
       "      <td>Road-750 Black, 48</td>\n",
       "      <td>BK-R19B-48</td>\n",
       "      <td>1</td>\n",
       "      <td>1</td>\n",
       "      <td>Black</td>\n",
       "      <td>100</td>\n",
       "      <td>75</td>\n",
       "      <td>343,6496</td>\n",
       "      <td>539,99</td>\n",
       "      <td>48</td>\n",
       "      <td>CM</td>\n",
       "      <td>LB</td>\n",
       "      <td>20.13</td>\n",
       "      <td>4</td>\n",
       "      <td>R</td>\n",
       "      <td>L</td>\n",
       "      <td>U</td>\n",
       "      <td>2.0</td>\n",
       "      <td>31.0</td>\n",
       "      <td>2013-05-30 00:00:00.000</td>\n",
       "      <td>NaN</td>\n",
       "      <td>NaN</td>\n",
       "      <td>3DE9A212-1D49-40B6-B10A-F564D981DBDE</td>\n",
       "      <td>2014-02-08 10:01:36.827</td>\n",
       "    </tr>\n",
       "    <tr>\n",
       "      <th>503</th>\n",
       "      <td>999</td>\n",
       "      <td>Road-750 Black, 52</td>\n",
       "      <td>BK-R19B-52</td>\n",
       "      <td>1</td>\n",
       "      <td>1</td>\n",
       "      <td>Black</td>\n",
       "      <td>100</td>\n",
       "      <td>75</td>\n",
       "      <td>343,6496</td>\n",
       "      <td>539,99</td>\n",
       "      <td>52</td>\n",
       "      <td>CM</td>\n",
       "      <td>LB</td>\n",
       "      <td>20.42</td>\n",
       "      <td>4</td>\n",
       "      <td>R</td>\n",
       "      <td>L</td>\n",
       "      <td>U</td>\n",
       "      <td>2.0</td>\n",
       "      <td>31.0</td>\n",
       "      <td>2013-05-30 00:00:00.000</td>\n",
       "      <td>NaN</td>\n",
       "      <td>NaN</td>\n",
       "      <td>AE638923-2B67-4679-B90E-ABBAB17DCA31</td>\n",
       "      <td>2014-02-08 10:01:36.827</td>\n",
       "    </tr>\n",
       "  </tbody>\n",
       "</table>\n",
       "<p>504 rows × 25 columns</p>\n",
       "</div>"
      ],
      "text/plain": [
       "     ProductID                   Name ProductNumber  MakeFlag  \\\n",
       "0            1        Adjustable Race       AR-5381         0   \n",
       "1            2           Bearing Ball       BA-8327         0   \n",
       "2            3        BB Ball Bearing       BE-2349         1   \n",
       "3            4  Headset Ball Bearings       BE-2908         0   \n",
       "4          316                  Blade       BL-2036         1   \n",
       "..         ...                    ...           ...       ...   \n",
       "499        995      ML Bottom Bracket       BB-8107         1   \n",
       "500        996      HL Bottom Bracket       BB-9108         1   \n",
       "501        997     Road-750 Black, 44    BK-R19B-44         1   \n",
       "502        998     Road-750 Black, 48    BK-R19B-48         1   \n",
       "503        999     Road-750 Black, 52    BK-R19B-52         1   \n",
       "\n",
       "     FinishedGoodsFlag  Color  SafetyStockLevel  ReorderPoint StandardCost  \\\n",
       "0                    0    NaN              1000           750         0,00   \n",
       "1                    0    NaN              1000           750         0,00   \n",
       "2                    0    NaN               800           600         0,00   \n",
       "3                    0    NaN               800           600         0,00   \n",
       "4                    0    NaN               800           600         0,00   \n",
       "..                 ...    ...               ...           ...          ...   \n",
       "499                  1    NaN               500           375      44,9506   \n",
       "500                  1    NaN               500           375      53,9416   \n",
       "501                  1  Black               100            75     343,6496   \n",
       "502                  1  Black               100            75     343,6496   \n",
       "503                  1  Black               100            75     343,6496   \n",
       "\n",
       "    ListPrice Size SizeUnitMeasureCode WeightUnitMeasureCode  Weight  \\\n",
       "0        0,00  NaN                 NaN                   NaN     NaN   \n",
       "1        0,00  NaN                 NaN                   NaN     NaN   \n",
       "2        0,00  NaN                 NaN                   NaN     NaN   \n",
       "3        0,00  NaN                 NaN                   NaN     NaN   \n",
       "4        0,00  NaN                 NaN                   NaN     NaN   \n",
       "..        ...  ...                 ...                   ...     ...   \n",
       "499    101,24  NaN                 NaN                   G    168.00   \n",
       "500    121,49  NaN                 NaN                   G    170.00   \n",
       "501    539,99   44                 CM                    LB    19.77   \n",
       "502    539,99   48                 CM                    LB    20.13   \n",
       "503    539,99   52                 CM                    LB    20.42   \n",
       "\n",
       "     DaysToManufacture ProductLine Class Style  ProductSubcategoryID  \\\n",
       "0                    0         NaN   NaN   NaN                   NaN   \n",
       "1                    0         NaN   NaN   NaN                   NaN   \n",
       "2                    1         NaN   NaN   NaN                   NaN   \n",
       "3                    0         NaN   NaN   NaN                   NaN   \n",
       "4                    1         NaN   NaN   NaN                   NaN   \n",
       "..                 ...         ...   ...   ...                   ...   \n",
       "499                  1         NaN    M    NaN                   5.0   \n",
       "500                  1         NaN    H    NaN                   5.0   \n",
       "501                  4          R     L     U                    2.0   \n",
       "502                  4          R     L     U                    2.0   \n",
       "503                  4          R     L     U                    2.0   \n",
       "\n",
       "     ProductModelID            SellStartDate SellEndDate  DiscontinuedDate  \\\n",
       "0               NaN  2008-04-30 00:00:00.000         NaN               NaN   \n",
       "1               NaN  2008-04-30 00:00:00.000         NaN               NaN   \n",
       "2               NaN  2008-04-30 00:00:00.000         NaN               NaN   \n",
       "3               NaN  2008-04-30 00:00:00.000         NaN               NaN   \n",
       "4               NaN  2008-04-30 00:00:00.000         NaN               NaN   \n",
       "..              ...                      ...         ...               ...   \n",
       "499            96.0  2013-05-30 00:00:00.000         NaN               NaN   \n",
       "500            97.0  2013-05-30 00:00:00.000         NaN               NaN   \n",
       "501            31.0  2013-05-30 00:00:00.000         NaN               NaN   \n",
       "502            31.0  2013-05-30 00:00:00.000         NaN               NaN   \n",
       "503            31.0  2013-05-30 00:00:00.000         NaN               NaN   \n",
       "\n",
       "                                  rowguid             ModifiedDate  \n",
       "0    694215B7-08F7-4C0D-ACB1-D734BA44C0C8  2014-02-08 10:01:36.827  \n",
       "1    58AE3C20-4F3A-4749-A7D4-D568806CC537  2014-02-08 10:01:36.827  \n",
       "2    9C21AED2-5BFA-4F18-BCB8-F11638DC2E4E  2014-02-08 10:01:36.827  \n",
       "3    ECFED6CB-51FF-49B5-B06C-7D8AC834DB8B  2014-02-08 10:01:36.827  \n",
       "4    E73E9750-603B-4131-89F5-3DD15ED5FF80  2014-02-08 10:01:36.827  \n",
       "..                                    ...                      ...  \n",
       "499  71AB847F-D091-42D6-B735-7B0C2D82FC84  2014-02-08 10:01:36.827  \n",
       "500  230C47C5-08B2-4CE3-B706-69C0BDD62965  2014-02-08 10:01:36.827  \n",
       "501  44CE4802-409F-43AB-9B27-CA53421805BE  2014-02-08 10:01:36.827  \n",
       "502  3DE9A212-1D49-40B6-B10A-F564D981DBDE  2014-02-08 10:01:36.827  \n",
       "503  AE638923-2B67-4679-B90E-ABBAB17DCA31  2014-02-08 10:01:36.827  \n",
       "\n",
       "[504 rows x 25 columns]"
      ]
     },
     "execution_count": 353,
     "metadata": {},
     "output_type": "execute_result"
    }
   ],
   "source": [
    "Product"
   ]
  },
  {
   "cell_type": "code",
   "execution_count": 193,
   "metadata": {},
   "outputs": [
    {
     "data": {
      "text/html": [
       "<div>\n",
       "<style scoped>\n",
       "    .dataframe tbody tr th:only-of-type {\n",
       "        vertical-align: middle;\n",
       "    }\n",
       "\n",
       "    .dataframe tbody tr th {\n",
       "        vertical-align: top;\n",
       "    }\n",
       "\n",
       "    .dataframe thead th {\n",
       "        text-align: right;\n",
       "    }\n",
       "</style>\n",
       "<table border=\"1\" class=\"dataframe\">\n",
       "  <thead>\n",
       "    <tr style=\"text-align: right;\">\n",
       "      <th></th>\n",
       "      <th>OrderQty</th>\n",
       "    </tr>\n",
       "    <tr>\n",
       "      <th>ProductID</th>\n",
       "      <th></th>\n",
       "    </tr>\n",
       "  </thead>\n",
       "  <tbody>\n",
       "    <tr>\n",
       "      <th>897</th>\n",
       "      <td>4</td>\n",
       "    </tr>\n",
       "    <tr>\n",
       "      <th>942</th>\n",
       "      <td>7</td>\n",
       "    </tr>\n",
       "    <tr>\n",
       "      <th>943</th>\n",
       "      <td>8</td>\n",
       "    </tr>\n",
       "    <tr>\n",
       "      <th>911</th>\n",
       "      <td>10</td>\n",
       "    </tr>\n",
       "    <tr>\n",
       "      <th>927</th>\n",
       "      <td>15</td>\n",
       "    </tr>\n",
       "    <tr>\n",
       "      <th>...</th>\n",
       "      <td>...</td>\n",
       "    </tr>\n",
       "    <tr>\n",
       "      <th>708</th>\n",
       "      <td>6532</td>\n",
       "    </tr>\n",
       "    <tr>\n",
       "      <th>715</th>\n",
       "      <td>6592</td>\n",
       "    </tr>\n",
       "    <tr>\n",
       "      <th>711</th>\n",
       "      <td>6743</td>\n",
       "    </tr>\n",
       "    <tr>\n",
       "      <th>870</th>\n",
       "      <td>6815</td>\n",
       "    </tr>\n",
       "    <tr>\n",
       "      <th>712</th>\n",
       "      <td>8311</td>\n",
       "    </tr>\n",
       "  </tbody>\n",
       "</table>\n",
       "<p>266 rows × 1 columns</p>\n",
       "</div>"
      ],
      "text/plain": [
       "           OrderQty\n",
       "ProductID          \n",
       "897               4\n",
       "942               7\n",
       "943               8\n",
       "911              10\n",
       "927              15\n",
       "...             ...\n",
       "708            6532\n",
       "715            6592\n",
       "711            6743\n",
       "870            6815\n",
       "712            8311\n",
       "\n",
       "[266 rows x 1 columns]"
      ]
     },
     "execution_count": 193,
     "metadata": {},
     "output_type": "execute_result"
    }
   ],
   "source": [
    "SalesOrderDetail.groupby([\"ProductID\"]).agg({\"OrderQty\":sum}).sort_values(by=[\"OrderQty\"])"
   ]
  },
  {
   "cell_type": "code",
   "execution_count": 227,
   "metadata": {},
   "outputs": [
    {
     "data": {
      "text/plain": [
       "209"
      ]
     },
     "execution_count": 227,
     "metadata": {},
     "output_type": "execute_result"
    }
   ],
   "source": [
    "len(SpecialOfferProduct.merge(Product, on='ProductID', how='outer', indicator=True)\n",
    "     .query('_merge != \"both\"')\n",
    "     .drop('_merge', 1))"
   ]
  },
  {
   "cell_type": "code",
   "execution_count": 229,
   "metadata": {},
   "outputs": [
    {
     "data": {
      "text/plain": [
       "209"
      ]
     },
     "execution_count": 229,
     "metadata": {},
     "output_type": "execute_result"
    }
   ],
   "source": [
    "len(SpecialOfferProduct.merge(Product, on='ProductID', how='right', indicator=True)\n",
    "     .query('_merge == \"right_only\"')\n",
    "     .drop('_merge', 1))"
   ]
  },
  {
   "cell_type": "code",
   "execution_count": 233,
   "metadata": {},
   "outputs": [
    {
     "data": {
      "text/plain": [
       "747"
      ]
     },
     "execution_count": 233,
     "metadata": {},
     "output_type": "execute_result"
    }
   ],
   "source": [
    "len(pd.merge(SpecialOfferProduct, Product, on=\"ProductID\", how=\"right\"))"
   ]
  },
  {
   "cell_type": "code",
   "execution_count": null,
   "metadata": {},
   "outputs": [],
   "source": []
  }
 ],
 "metadata": {
  "kernelspec": {
   "display_name": "Python 3",
   "language": "python",
   "name": "python3"
  },
  "language_info": {
   "codemirror_mode": {
    "name": "ipython",
    "version": 3
   },
   "file_extension": ".py",
   "mimetype": "text/x-python",
   "name": "python",
   "nbconvert_exporter": "python",
   "pygments_lexer": "ipython3",
   "version": "3.8.5"
  }
 },
 "nbformat": 4,
 "nbformat_minor": 4
}
