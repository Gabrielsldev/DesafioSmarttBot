{
 "cells": [
  {
   "cell_type": "code",
   "execution_count": 17,
   "metadata": {},
   "outputs": [],
   "source": [
    "import pandas as pd\n",
    "import numpy as np"
   ]
  },
  {
   "cell_type": "markdown",
   "metadata": {},
   "source": [
    "# 1. Escreva uma query que retorna a quantidade de linhas na tabela Sales.SalesOrderDetail pelo campo SalesOrderID, desde que tenham pelo menos três linhas de detalhes."
   ]
  },
  {
   "cell_type": "markdown",
   "metadata": {},
   "source": [
    "## Acha a quantidade de linhas de detalhes (SalesOrderDetailID) por SalesOrderID.\n",
    "- Após fazer uma análise exploratória dos dados, foi verificado que **para cada SalesOrderID existe uma SalesOrderDetailID.**\n",
    " - Foi feito um agrupamento da coluna SalesOrderID com a função de agregação size() para achar o número de linhas para cada SalesOrderID, **que é o mesmo número de linhas da coluna SalesOrderDetailID.**"
   ]
  },
  {
   "cell_type": "code",
   "execution_count": 36,
   "metadata": {},
   "outputs": [],
   "source": [
    "def number_of_details(file):\n",
    "    \n",
    "    # Importa base Sales.SalesOrderDetail.csv\n",
    "    SalesOrderDetail = pd.read_csv(f\"../data/{file}\", sep=\";\")\n",
    "    # Agrupa SalesOrderDetail por SalesOrderID com a função de agregação size()\n",
    "    # Nomeia a coluna com o número de registros como Entries\n",
    "    grouped_SalesOrderDetail = SalesOrderDetail.groupby('SalesOrderID').size().reset_index(name='Entries')\n",
    "    # Seleciona as linhas com número de registros maior ou igual a 3\n",
    "    answer = grouped_SalesOrderDetail.loc[grouped_SalesOrderDetail[\"Entries\"] >= 3]\n",
    "    \n",
    "    # Retorna o tamanho do dataframe answer, que é o resultado esperado\n",
    "    return len(answer)"
   ]
  },
  {
   "cell_type": "code",
   "execution_count": 37,
   "metadata": {},
   "outputs": [
    {
     "data": {
      "text/plain": [
       "12757"
      ]
     },
     "execution_count": 37,
     "metadata": {},
     "output_type": "execute_result"
    }
   ],
   "source": [
    "number_of_details(\"Sales.SalesOrderDetail.csv\")"
   ]
  },
  {
   "cell_type": "code",
   "execution_count": null,
   "metadata": {},
   "outputs": [],
   "source": []
  }
 ],
 "metadata": {
  "kernelspec": {
   "display_name": "Python 3",
   "language": "python",
   "name": "python3"
  },
  "language_info": {
   "codemirror_mode": {
    "name": "ipython",
    "version": 3
   },
   "file_extension": ".py",
   "mimetype": "text/x-python",
   "name": "python",
   "nbconvert_exporter": "python",
   "pygments_lexer": "ipython3",
   "version": "3.8.5"
  }
 },
 "nbformat": 4,
 "nbformat_minor": 4
}
